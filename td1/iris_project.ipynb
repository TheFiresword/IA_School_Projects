{
 "cells": [
  {
   "cell_type": "code",
   "execution_count": null,
   "metadata": {},
   "outputs": [],
   "source": [
    "from td1.my_ai_utils import *"
   ]
  },
  {
   "cell_type": "code",
   "execution_count": null,
   "metadata": {},
   "outputs": [],
   "source": [
    "real_set = np.array(pd.read_csv(\"C:/Users/Junior/Documents/3A/AI/TDs/iris.data.csv\"))\n",
    "np.random.shuffle(real_set)\n",
    "\n",
    "size = len(real_set)\n",
    "X_set = real_set[:,:-1]\n",
    "Y_set = real_set[:,-1]\n",
    "X_set = np.hstack((X_set, np.ones(len(Y_set)).reshape((-1, 1))))\n",
    "\n",
    "_train_set = X_set[:size//2, :]\n",
    "_train_y = Y_set[:size//2]\n",
    "\n",
    "_test_set = X_set[size//2: , :]\n",
    "_test_y = Y_set[size//2:]\n",
    "\n",
    "\n",
    "b = NetModel(input_shape=(4, ), usage=\"MultiClassification\")\n",
    "b.add_layer(Dense(3, activation_function=\"sigmoid\"))\n",
    "\n",
    "b.compile(3, categories=['Iris-setosa','Iris-versicolor', 'Iris-virginica'])\n",
    "\n",
    "b.train(_train_set, _train_y,\"cross_entropy\", nepochs= 1000, learning_rate=0.01)\n",
    "b.display_losses()\n",
    "z = b.predict_sample(_test_set,_test_y )"
   ]
  }
 ],
 "metadata": {
  "language_info": {
   "name": "python"
  },
  "orig_nbformat": 4
 },
 "nbformat": 4,
 "nbformat_minor": 2
}
